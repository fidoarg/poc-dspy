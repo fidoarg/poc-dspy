{
 "cells": [
  {
   "cell_type": "code",
   "execution_count": 1,
   "id": "41b2b200-2121-4e98-853f-51197d3ceae9",
   "metadata": {},
   "outputs": [],
   "source": [
    "import sys\n",
    "import os\n",
    "from pathlib import Path\n",
    "sys.path.append(str((Path(os.pardir) / 'src').resolve()))"
   ]
  },
  {
   "cell_type": "markdown",
   "id": "a8cab640-055f-46e0-bfbb-5c81fece7930",
   "metadata": {},
   "source": [
    "---"
   ]
  },
  {
   "cell_type": "code",
   "execution_count": 5,
   "id": "950c8d85-6d78-4a54-8c87-c0684cc5c930",
   "metadata": {},
   "outputs": [],
   "source": [
    "import dspy"
   ]
  },
  {
   "cell_type": "code",
   "execution_count": 13,
   "id": "3eda34cc-56c3-44ed-bef4-587f6d09ecf4",
   "metadata": {},
   "outputs": [],
   "source": [
    "gpt3_turbo = dspy.OpenAI(model='gpt-3.5-turbo-1106', max_tokens=300)\n",
    "dspy.configure(lm=gpt3_turbo)"
   ]
  },
  {
   "cell_type": "markdown",
   "id": "b78a55b3-12b1-4b94-bea9-3a4be3588a67",
   "metadata": {},
   "source": [
    "## Signatures\n",
    "\n",
    "A signature is a declarative specification of input/output behavior of a DSPy module. Signatures allow you to tell the LM what it needs to do, rather than specify how we should ask the LM to do it."
   ]
  },
  {
   "cell_type": "code",
   "execution_count": 14,
   "id": "73b20437-3908-494d-be6f-f7dec2826464",
   "metadata": {},
   "outputs": [],
   "source": [
    "class CheckSentiment(dspy.Signature):\n",
    "    \"\"\"\n",
    "    Clasificar el texto en función de si es positivo o negativo\n",
    "    \"\"\"\n",
    "\n",
    "    texto = dspy.InputField()\n",
    "    sentimiento = dspy.OutputField(desc=\"True/False indicando si es un texto positivo\")"
   ]
  },
  {
   "cell_type": "code",
   "execution_count": 15,
   "id": "1f12acab-daa4-44be-bfa4-c7c6e1d05ea1",
   "metadata": {},
   "outputs": [],
   "source": [
    "CoT = dspy.ChainOfThought(CheckSentiment)"
   ]
  }
 ],
 "metadata": {
  "kernelspec": {
   "display_name": "Python 3 (ipykernel)",
   "language": "python",
   "name": "python3"
  },
  "language_info": {
   "codemirror_mode": {
    "name": "ipython",
    "version": 3
   },
   "file_extension": ".py",
   "mimetype": "text/x-python",
   "name": "python",
   "nbconvert_exporter": "python",
   "pygments_lexer": "ipython3",
   "version": "3.10.14"
  }
 },
 "nbformat": 4,
 "nbformat_minor": 5
}
