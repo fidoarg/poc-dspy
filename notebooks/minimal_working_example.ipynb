{
 "cells": [
  {
   "cell_type": "code",
   "execution_count": 1,
   "id": "41b2b200-2121-4e98-853f-51197d3ceae9",
   "metadata": {},
   "outputs": [],
   "source": [
    "import sys\n",
    "import os\n",
    "from pathlib import Path"
   ]
  },
  {
   "cell_type": "code",
   "execution_count": 2,
   "id": "57b45132-af28-450d-a0ba-b981db378165",
   "metadata": {},
   "outputs": [],
   "source": [
    "# Agrego la carpeta src al sys path para usar los scripts que desarrolle dentro de dicha carpeta\n",
    "sys.path.append(str((Path(os.pardir) / 'src').resolve()))"
   ]
  },
  {
   "cell_type": "code",
   "execution_count": 35,
   "id": "37ed022b-0977-47a5-b9b3-dd88a3f92c88",
   "metadata": {},
   "outputs": [],
   "source": [
    "assert os.environ['OPENAI_API_KEY'] != \"\""
   ]
  },
  {
   "cell_type": "markdown",
   "id": "a8cab640-055f-46e0-bfbb-5c81fece7930",
   "metadata": {},
   "source": [
    "---"
   ]
  },
  {
   "cell_type": "code",
   "execution_count": 7,
   "id": "950c8d85-6d78-4a54-8c87-c0684cc5c930",
   "metadata": {},
   "outputs": [],
   "source": [
    "import dspy"
   ]
  },
  {
   "cell_type": "markdown",
   "id": "2ae515d8-916e-4cb0-b7f1-5b32d4678cff",
   "metadata": {},
   "source": [
    "# Minimal Example "
   ]
  },
  {
   "cell_type": "markdown",
   "id": "7698665c-fe13-49be-b468-f4df4746b72b",
   "metadata": {},
   "source": [
    "## Setup"
   ]
  },
  {
   "cell_type": "code",
   "execution_count": 13,
   "id": "de122f94-bae8-4e47-b76d-d0d96e9f9ecf",
   "metadata": {},
   "outputs": [
    {
     "name": "stderr",
     "output_type": "stream",
     "text": [
      "100%|██████████| 7473/7473 [00:00<00:00, 45892.04it/s]\n",
      "100%|██████████| 1319/1319 [00:00<00:00, 63480.06it/s]\n"
     ]
    }
   ],
   "source": [
    "import dspy\n",
    "from dspy.datasets.gsm8k import GSM8K, gsm8k_metric\n",
    "\n",
    "# Set up the LM.\n",
    "turbo = dspy.OpenAI(model='gpt-3.5-turbo-instruct', max_tokens=250)\n",
    "dspy.settings.configure(lm=turbo)\n",
    "\n",
    "# Load math questions from the GSM8K dataset.\n",
    "gsm8k = GSM8K()\n",
    "gsm8k_trainset, gsm8k_devset = gsm8k.train, gsm8k.dev"
   ]
  },
  {
   "cell_type": "code",
   "execution_count": 14,
   "id": "eebd480a-4b26-4ae6-be81-28af1e4c1cb0",
   "metadata": {},
   "outputs": [
    {
     "name": "stdout",
     "output_type": "stream",
     "text": [
      "\n",
      "Train set: 200\n",
      "Test set: 300\n",
      "\n"
     ]
    }
   ],
   "source": [
    "print(\n",
    "f\"\"\"\n",
    "Train set: {len(gsm8k_trainset)}\n",
    "Test set: {len(gsm8k_devset)}\n",
    "\"\"\"\n",
    ")"
   ]
  },
  {
   "cell_type": "code",
   "execution_count": 15,
   "id": "2e7deb27-b0a1-41a2-9a1e-faee50c583f3",
   "metadata": {},
   "outputs": [
    {
     "data": {
      "text/plain": [
       "Example({'question': \"The result from the 40-item Statistics exam Marion and Ella took already came out. Ella got 4 incorrect answers while Marion got 6 more than half the score of Ella. What is Marion's score?\", 'gold_reasoning': \"Ella's score is 40 items - 4 items = <<40-4=36>>36 items. Half of Ella's score is 36 items / 2 = <<36/2=18>>18 items. So, Marion's score is 18 items + 6 items = <<18+6=24>>24 items.\", 'answer': '24'}) (input_keys={'question'})"
      ]
     },
     "execution_count": 15,
     "metadata": {},
     "output_type": "execute_result"
    }
   ],
   "source": [
    "gsm8k_trainset[0]"
   ]
  },
  {
   "cell_type": "markdown",
   "id": "098be7f4-a605-4c39-b8f3-85cd9cb67829",
   "metadata": {},
   "source": [
    "## Module definition"
   ]
  },
  {
   "cell_type": "code",
   "execution_count": 17,
   "id": "dae82f16-ac28-4b31-a50f-66ed5b252077",
   "metadata": {},
   "outputs": [],
   "source": [
    "class CoT(dspy.Module):\n",
    "    def __init__(self):\n",
    "        super().__init__()\n",
    "        self.prog = dspy.ChainOfThought(\"question -> answer\")\n",
    "    \n",
    "    def forward(self, question):\n",
    "        return self.prog(question=question)"
   ]
  },
  {
   "cell_type": "markdown",
   "id": "3b16fe4b-5270-476a-ac15-26251826f99b",
   "metadata": {},
   "source": [
    "## Optimation definition"
   ]
  },
  {
   "cell_type": "code",
   "execution_count": 18,
   "id": "00a8cc6a-6731-4be6-9984-b1c821d3f425",
   "metadata": {},
   "outputs": [
    {
     "name": "stderr",
     "output_type": "stream",
     "text": [
      "  2%|▎         | 5/200 [00:19<12:27,  3.84s/it]\n"
     ]
    }
   ],
   "source": [
    "from dspy.teleprompt import BootstrapFewShot\n",
    "\n",
    "# Set up the optimizer: we want to \"bootstrap\" (i.e., self-generate) 4-shot examples of our CoT program.\n",
    "config = dict(max_bootstrapped_demos=4, max_labeled_demos=4)\n",
    "\n",
    "# Optimize! Use the `gsm8k_metric` here. In general, the metric is going to tell the optimizer how well it's doing.\n",
    "teleprompter = BootstrapFewShot(metric=gsm8k_metric, **config)\n",
    "optimized_cot = teleprompter.compile(CoT(), trainset=gsm8k_trainset)"
   ]
  },
  {
   "cell_type": "markdown",
   "id": "4eeec4b0-878d-442d-ac84-1a5d74459122",
   "metadata": {},
   "source": [
    "## Evaluate "
   ]
  },
  {
   "cell_type": "code",
   "execution_count": 19,
   "id": "d559dc3e-4e58-484d-9764-827d7f62f535",
   "metadata": {},
   "outputs": [
    {
     "name": "stderr",
     "output_type": "stream",
     "text": [
      "Average Metric: 224 / 300  (74.7): 100%|██████████| 300/300 [02:55<00:00,  1.71it/s]\n"
     ]
    },
    {
     "data": {
      "text/plain": [
       "74.67"
      ]
     },
     "execution_count": 19,
     "metadata": {},
     "output_type": "execute_result"
    }
   ],
   "source": [
    "from dspy.evaluate import Evaluate\n",
    "\n",
    "# Set up the evaluator, which can be used multiple times.\n",
    "evaluate = Evaluate(devset=gsm8k_devset, metric=gsm8k_metric, num_threads=4, display_progress=True, display_table=0)\n",
    "\n",
    "# Evaluate our `optimized_cot` program.\n",
    "evaluate(optimized_cot)"
   ]
  },
  {
   "cell_type": "markdown",
   "id": "f979953c-7fe4-4762-9be5-abfbf3d024f0",
   "metadata": {},
   "source": [
    "## Tryout "
   ]
  },
  {
   "cell_type": "code",
   "execution_count": 30,
   "id": "44da846a-b9fd-4e9b-afa5-288d1c9defb2",
   "metadata": {},
   "outputs": [],
   "source": [
    "pred = optimized_cot(question=\"Sarah buys 10 pencils on Monday. Then she buys 14 more pencils on Tuesday. On Wednesday she buys triple the number of pencils she did on Tuesday. How many pencils does she have?\")"
   ]
  },
  {
   "cell_type": "code",
   "execution_count": 36,
   "id": "1fde225a-2adc-4dee-938d-29d9e442b4aa",
   "metadata": {},
   "outputs": [
    {
     "data": {
      "text/plain": [
       "'66'"
      ]
     },
     "execution_count": 36,
     "metadata": {},
     "output_type": "execute_result"
    }
   ],
   "source": [
    "pred.answer"
   ]
  },
  {
   "cell_type": "code",
   "execution_count": 37,
   "id": "d7fed0cc-b9c3-4736-ae38-78a07966fed9",
   "metadata": {},
   "outputs": [
    {
     "data": {
      "text/plain": [
       "'find the answer. We know that Sarah bought 10 pencils on Monday and 14 more on Tuesday. This means she has 10 + 14 = 24 pencils. On Wednesday, she bought triple the number of pencils she did on Tuesday, which is 3 * 14 = 42 pencils. Therefore, Sarah has 24 + 42 = 66 pencils.'"
      ]
     },
     "execution_count": 37,
     "metadata": {},
     "output_type": "execute_result"
    }
   ],
   "source": [
    "pred.rationale"
   ]
  },
  {
   "cell_type": "markdown",
   "id": "69e003d9-ad6e-4256-8cad-6bd0cd6cdec1",
   "metadata": {},
   "source": [
    "## Prompt"
   ]
  },
  {
   "cell_type": "code",
   "execution_count": 52,
   "id": "de8b3809-da2e-451f-9308-58fb25a58402",
   "metadata": {},
   "outputs": [
    {
     "name": "stdout",
     "output_type": "stream",
     "text": [
      "Given the fields `question`, produce the fields `answer`.\n",
      "\n",
      "---\n",
      "\n",
      "Follow the following format.\n",
      "\n",
      "Question: ${question}\n",
      "Reasoning: Let's think step by step in order to ${produce the answer}. We ...\n",
      "Answer: ${answer}\n",
      "\n",
      "---\n",
      "\n",
      "Question: The result from the 40-item Statistics exam Marion and Ella took already came out. Ella got 4 incorrect answers while Marion got 6 more than half the score of Ella. What is Marion's score?\n",
      "Reasoning: Let's think step by step in order to find Marion's score. We know that Ella got 4 incorrect answers, which means she got 36 correct answers. We also know that Marion got 6 more than half of Ella's score, which is 6 more than 36/2 = 18. Therefore, Marion's score is 18 + 6 = 24.\n",
      "Answer: 24\n",
      "\n",
      "---\n",
      "\n",
      "Question: Bridget counted 14 shooting stars in the night sky. Reginald counted two fewer shooting stars than did Bridget, but Sam counted four more shooting stars than did Reginald. How many more shooting stars did Sam count in the night sky than was the average number of shooting stars observed for the three of them?\n",
      "Reasoning: Let's think step by step in order to find the answer. First, we know that Bridget counted 14 shooting stars. Then, we know that Reginald counted two fewer shooting stars than Bridget, so he counted 14 - 2 = 12 shooting stars. Finally, we know that Sam counted four more shooting stars than Reginald, so he counted 12 + 4 = 16 shooting stars. To find the average number of shooting stars observed, we add up the number of shooting stars each person counted and divide by the number of people, which is 3. So the average number of shooting stars observed is (14 + 12 + 16) / 3 = 14. Therefore, Sam counted 16 - 14 = 2 more shooting stars than the average number of shooting stars observed.\n",
      "Answer: 2\n",
      "\n",
      "---\n",
      "\n",
      "Question: Sarah buys 20 pencils on Monday. Then she buys 18 more pencils on Tuesday. On Wednesday she buys triple the number of pencils she did on Tuesday. How many pencils does she have?\n",
      "Reasoning: Let's think step by step in order to find the answer. We know that Sarah bought 20 pencils on Monday and 18 more on Tuesday. This means she has 20 + 18 = 38 pencils. On Wednesday, she bought triple the number of pencils she did on Tuesday, which is 3 * 18 = 54 pencils. Therefore, Sarah has 38 + 54 = 92 pencils.\n",
      "Answer: 92\n",
      "\n",
      "---\n",
      "\n",
      "Question: Rookie police officers have to buy duty shoes at the full price of $85, but officers who have served at least a year get a 20% discount. Officers who have served at least three years get an additional 25% off the discounted price. How much does an officer who has served at least three years have to pay for shoes?\n",
      "Reasoning: Let's think step by step in order to find the answer. First, we need to find the discounted price for an officer who has served at least a year. This can be found by multiplying the full price by 0.8. Then, we need to find the discounted price for an officer who has served at least three years. This can be found by multiplying the discounted price by 0.75. Finally, we can subtract this discounted price from the full price to find the final price.\n",
      "Answer: $51\n",
      "\n",
      "---\n",
      "\n",
      "Question: Sarah buys 10 pencils on Monday. Then she buys 14 more pencils on Tuesday. On Wednesday she buys triple the number of pencils she did on Tuesday. How many pencils does she have?\n",
      "Reasoning: Let's think step by step in order to find the answer. We know that Sarah bought 10 pencils on Monday and 14 more on Tuesday. This means she has 10 + 14 = 24 pencils. On Wednesday, she bought triple the number of pencils she did on Tuesday, which is 3 * 14 = 42 pencils. Therefore, Sarah has 24 + 42 = 66 pencils.\n",
      "Answer: 66\n"
     ]
    }
   ],
   "source": [
    "print(turbo.history[-1]['prompt'] + turbo.history[-1]['response']['choices'][0]['text'])"
   ]
  }
 ],
 "metadata": {
  "kernelspec": {
   "display_name": "Python 3 (ipykernel)",
   "language": "python",
   "name": "python3"
  },
  "language_info": {
   "codemirror_mode": {
    "name": "ipython",
    "version": 3
   },
   "file_extension": ".py",
   "mimetype": "text/x-python",
   "name": "python",
   "nbconvert_exporter": "python",
   "pygments_lexer": "ipython3",
   "version": "3.10.14"
  }
 },
 "nbformat": 4,
 "nbformat_minor": 5
}
